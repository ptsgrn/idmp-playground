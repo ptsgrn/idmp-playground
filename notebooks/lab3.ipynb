{
 "cells": [
  {
   "cell_type": "code",
   "execution_count": 3,
   "metadata": {},
   "outputs": [],
   "source": [
    "primes = []\n",
    "\n",
    "\n",
    "def prime(n): return not any(\n",
    "    n % i == 0 for i in range(2, n)) if n > 1 else False\n",
    "\n",
    "\n",
    "for i in range(10000,20000):\n",
    "  if prime(i):\n",
    "    primes.append(i)"
   ]
  },
  {
   "cell_type": "code",
   "execution_count": 7,
   "metadata": {},
   "outputs": [],
   "source": [
    "t_primes = [p for p in str(primes)]"
   ]
  },
  {
   "cell_type": "code",
   "execution_count": null,
   "metadata": {},
   "outputs": [],
   "source": [
    "def guessDigit(answer: str, digit: str, position: int) -> int:\n",
    "  if answer[position] == digit:\n",
    "    return 1\n",
    "  if digit in answer:\n",
    "    return 0\n",
    "  return -1\n",
    "\n",
    "def guessNumber(answer: str, guess: str) -> int:\n",
    "  "
   ]
  }
 ],
 "metadata": {
  "kernelspec": {
   "display_name": ".venv",
   "language": "python",
   "name": "python3"
  },
  "language_info": {
   "codemirror_mode": {
    "name": "ipython",
    "version": 3
   },
   "file_extension": ".py",
   "mimetype": "text/x-python",
   "name": "python",
   "nbconvert_exporter": "python",
   "pygments_lexer": "ipython3",
   "version": "3.12.7"
  }
 },
 "nbformat": 4,
 "nbformat_minor": 2
}
