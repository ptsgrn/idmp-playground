{
 "cells": [
  {
   "cell_type": "code",
   "execution_count": 5,
   "metadata": {},
   "outputs": [
    {
     "name": "stdout",
     "output_type": "stream",
     "text": [
      "Note: you may need to restart the kernel to use updated packages.\n"
     ]
    }
   ],
   "source": [
    "%pip install -q langchain_ollama rdflib langchain_community"
   ]
  },
  {
   "cell_type": "code",
   "execution_count": 4,
   "metadata": {},
   "outputs": [
    {
     "name": "stdout",
     "output_type": "stream",
     "text": [
      "<think>\n",
      "Okay, so I need to figure out how to prove that the Earth isn't flat. Hmm, where do I even start? Well, the user mentioned that they have already looked it up, so maybe I can just think through the process of questioning this claim myself.\n",
      "\n",
      "Alright, first off, if something is flat, it's round from above. So one initial thought is to observe the curvature of the Earth at different altitudes. For example, when we talk about mountains being higher than hills or rivers, we're talking about their height and how they appear more spherical. Similarly, cities are bigger than smaller areas around them. But that doesn't necessarily disprove flatness because it's all relative.\n",
      "\n",
      "Then there's the horizon. When looking at a distant object, like a distant star, you can barely see it before it starts to disappear into the distance. This is called the visible distance. If something were curved, maybe the curvature would affect this differently? I'm not sure about that part. Maybe if the Earth was curved, there's a different way stars or other celestial objects appear?\n",
      "\n",
      "I remember hearing about how ships disappear first on shore and then when they go into the sea. That has to do with depth of field in photography because it affects how things are perceived from different distances. If the Earth were flat, maybe this effect would be different? Or perhaps not enough to change it.\n",
      "\n",
      "Another angle is looking at the sun's position. On flat ground, stars and planets appear directly overhead at certain times, like around noon. But if the Earth curves, wouldn't their positions shift as you move away from that point? Maybe with ships moving forward on a flat ocean, they seem to get ahead of their hulls because of the curve.\n",
      "\n",
      "Then there's the idea of constellations and how they change direction when viewed from different angles. From one side, stars seem to go north or south, but on a flat Earth, that wouldn't happen as much. Or maybe it would just be a matter of perspective. I'm not sure if that's enough.\n",
      "\n",
      "Maybe considering how directions change with altitude. If you're high up in a plane and look towards the horizon, you might see stars disappear before others around you, making it seem like the world is moving faster or something. That could be a way to argue against flatness because of relative movement versus absolute motion.\n",
      "\n",
      "I also think about the Earth's rotation and how we experience time zones. On a flat Earth, we wouldn't have that because everything would move together. But even if we did, ships would still seem ahead of their hulls as they move forward. Maybe that's another clue pointing towards a curved Earth.\n",
      "\n",
      "In terms of natural phenomena, maybe looking at tides and weather patterns. Tidal forces are what cause the high and low tides. If the Earth were flat, wouldn't tidal effects be more uniform or different? I'm not sure about that though. Or how about the movement of clouds or air masses over time? If the Earth curves, it might affect how these phenomena move across the sky.\n",
      "\n",
      "Then there's the idea of gravity and centrifugal force. On a rotating platform, you feel outward forces as you stand up. Maybe the Earth's rotation would create similar effects, making the feel of being on a spinning platform more pronounced. But I'm not sure if that directly helps in disproving flatness.\n",
      "\n",
      "Maybe thinking about physics principles like free-fall experiments. If the Earth is curved, then objects should fall differently when dropped from different heights. But we already know that all objects accelerate equally regardless of their height or weight on a flat Earth. So maybe that's consistent with what we see.\n",
      "\n",
      "Another thought is the horizon again. Maybe if the Earth were curved, the distance to the horizon changes depending on where you are? I'm not sure about that, but it seems like it might have more noticeable effects when looking at distant objects.\n",
      "\n",
      "I also think about how ships and airplanes move. On a flat Earth, their movement would be relative from different points of view. Maybe their appearance or speed in certain directions is affected by the Earth's curvature. That could complicate our understanding as observers change perspectives.\n",
      "\n",
      "In terms of angles and direction changes with elevation, maybe it affects how we perceive movement. For instance, when you look up, things seem to go backward if the Earth curves upward. That might be an interesting angle but I'm not sure if that directly disfavors flatness.\n",
      "\n",
      "I also recall hearing about the idea of a light-year versus a mile. If the Earth were curved, maybe it would affect how we perceive objects at those different distances. For example, maybe the curvature changes as you look from above or below, affecting perception and perhaps our understanding of time.\n",
      "\n",
      "Wait, but I think one of these ideas might be more convincing than others. Maybe looking at how ships disappear first on land is a strong point because it shows relative movement versus absolute motion. That's something we all experience daily with land-based activities.\n",
      "\n",
      "Another angle could be considering the concept of horizon angles or depth of field in photography, which affects how images are perceived from different distances and angles. On a flat Earth, these effects would likely be more pronounced or behave differently, but I'm not sure if that supports flatness.\n",
      "\n",
      "I also remember something about the stars moving across the sky at certain times. If the Earth were flat, wouldn't stars appear in a different order depending on where you are? Or maybe their positions relative to each other change as they move from one point to another.\n",
      "\n",
      "In summary, while I can't find a definitive mathematical proof, several observational phenomena seem to support that the Earth isn't flat. These include curvature at various altitudes, relative movement of ships and stars, changes in perception with elevation angles, and differences in how celestial objects appear based on location.\n",
      "</think>\n",
      "\n",
      "To prove that the Earth is not flat, we can observe and analyze various natural phenomena and relative movements:\n",
      "\n",
      "1. **Curvature Across Altitudes**: The Earth's surface curves upward from any given point, which is a key characteristic of a spherical shape rather than a flat one.\n",
      "\n",
      "2. **Relative Movement of Ships and Stars**: Ships disappear first on land as they move forward, illustrating relative movement. Similarly, stars and celestial objects appear to shift positions across the sky relative to different locations, indicating curvature.\n",
      "\n",
      "3. ** Horizon Effects**: The visibility of distant objects is influenced by the Earth's curvature. For example, ships vanish from one point to another on land, while distant stars appear more uniformly distributed due to curvature.\n",
      "\n",
      "4. **Relative Perception with Elevation Angles**: Objects and images perceived differently when viewed from varying angles or heights (e.g., through a camera lens) suggests a 3D structure like a sphere rather than flatness.\n",
      "\n",
      "5. **Ship Movement on a Flat Earth**: If the Earth were flat, ships would move relative to each other, affecting their appearance and movement patterns in observation.\n",
      "\n",
      "6. **Horizon Angle and Depth of Field**: These effects alter how we perceive objects at different distances and angles, providing evidence against a simple flat geometry.\n",
      "\n",
      "7. **Light-Year vs. Mile Distance**: While this relates more to physics principles like gravitational effects, it does not directly disfavor flatness.\n",
      "\n",
      "**Conclusion**: Observing relative movements, changes in perception with elevation, and the curvature across altitudes strongly suggests that the Earth is spherical rather than flat. These phenomena challenge our understanding of motion and geometry.\n"
     ]
    }
   ],
   "source": [
    "from langchain_ollama import OllamaLLM\n",
    "\n",
    "model = OllamaLLM(model=\"deepseek-r1:1.5b\")\n",
    "print(model.invoke(\"proof that the earth is not flat\"))"
   ]
  },
  {
   "cell_type": "code",
   "execution_count": null,
   "metadata": {},
   "outputs": [
    {
     "name": "stdout",
     "output_type": "stream",
     "text": [
      "<langchain_community.graphs.rdf_graph.RdfGraph object at 0x7fcb5b292830>\n"
     ]
    }
   ],
   "source": [
    "from langchain.chains import GraphSparqlQAChain\n",
    "from langchain_community.graphs import RdfGraph\n",
    "\n",
    "drag_ttl = \"https://hl7-eu.github.io/unicom-ig/MedicinalProductDefinition-Agen-5mg-Tablet-EE-MPD.ttl\"\n",
    "\n",
    "graph = RdfGraph(source_file=drag_ttl, serialization=\"ttl\")\n",
    "\n",
    "print(graph)\n",
    "# model = OllamaLLM(model=\"deepseek-r1:1.5b\")\n",
    "# print(model.invoke(\"proof that the earth is not flat\"))"
   ]
  },
  {
   "cell_type": "code",
   "execution_count": 19,
   "metadata": {},
   "outputs": [],
   "source": [
    "from langchain_ollama import OllamaLLM\n",
    "\n",
    "chain = GraphSparqlQAChain.from_llm(\n",
    "    OllamaLLM(model=\"llama3.1:8b\"),\n",
    "    graph=graph,\n",
    "    verbose=True,\n",
    "    allow_dangerous_requests=True\n",
    ")"
   ]
  },
  {
   "cell_type": "code",
   "execution_count": null,
   "metadata": {},
   "outputs": [
    {
     "name": "stdout",
     "output_type": "stream",
     "text": [
      "\n",
      "\n",
      "\u001b[1m> Entering new GraphSparqlQAChain chain...\u001b[0m\n",
      "Identified intent:\n",
      "\u001b[32;1m\u001b[1;3mSELECT\u001b[0m\n"
     ]
    }
   ],
   "source": [
    "chain.invoke(\"What is the name of the drug?\")"
   ]
  }
 ],
 "metadata": {
  "kernelspec": {
   "display_name": "Python 3",
   "language": "python",
   "name": "python3"
  },
  "language_info": {
   "codemirror_mode": {
    "name": "ipython",
    "version": 3
   },
   "file_extension": ".py",
   "mimetype": "text/x-python",
   "name": "python",
   "nbconvert_exporter": "python",
   "pygments_lexer": "ipython3",
   "version": "3.10.16"
  }
 },
 "nbformat": 4,
 "nbformat_minor": 2
}
